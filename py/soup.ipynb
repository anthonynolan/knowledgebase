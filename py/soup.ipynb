{
 "cells": [
  {
   "cell_type": "code",
   "execution_count": 4,
   "metadata": {},
   "outputs": [],
   "source": [
    "from bs4 import BeautifulSoup"
   ]
  },
  {
   "cell_type": "code",
   "execution_count": 2,
   "metadata": {},
   "outputs": [],
   "source": [
    "with open('../html/index.html', 'rt') as f:\n",
    "    content = f.read()"
   ]
  },
  {
   "cell_type": "code",
   "execution_count": 6,
   "metadata": {},
   "outputs": [
    {
     "name": "stdout",
     "output_type": "stream",
     "text": [
      "<!DOCTYPE html>\n",
      "<html lang=\"en\">\n",
      " <head>\n",
      "  <meta charset=\"utf-8\"/>\n",
      "  <meta content=\"IE=edge\" http-equiv=\"X-UA-Compatible\"/>\n",
      "  <meta content=\"width=device-width, initial-scale=1.0\" name=\"viewport\"/>\n",
      "  <title>\n",
      "   Document\n",
      "  </title>\n",
      "  <link href=\"main.css\" rel=\"stylesheet\"/>\n",
      " </head>\n",
      " <body>\n",
      "  <table class=\"styled-table\">\n",
      "   <tbody>\n",
      "    <tr>\n",
      "     <th>\n",
      "      link\n",
      "     </th>\n",
      "     <th>\n",
      "      date read\n",
      "     </th>\n",
      "     <th>\n",
      "      What am I doing about it?\n",
      "     </th>\n",
      "    </tr>\n",
      "   </tbody>\n",
      "   <tbody>\n",
      "    <tr>\n",
      "     <td>\n",
      "      <a href=\"https://www.artofmanliness.com/character/advice/sunday-firesides-there-is-no-other-layer-to-life/\">\n",
      "       There is no other layer to life\n",
      "      </a>\n",
      "     </td>\n",
      "     <td>\n",
      "      Saturday, October 15th 2022\n",
      "     </td>\n",
      "     <td>\n",
      "      Experiment: Plan my day to the 15 minute block (oct 17)\n",
      "     </td>\n",
      "    </tr>\n",
      "    <tr>\n",
      "     <td>\n",
      "      <a href=\"https://fs.blog/half-life/\">\n",
      "       The half life of knowledge\n",
      "      </a>\n",
      "     </td>\n",
      "     <td>\n",
      "      Saturday, October 15th 2022\n",
      "     </td>\n",
      "     <td>\n",
      "      Building my own knowledge base\n",
      "     </td>\n",
      "    </tr>\n",
      "    <tr>\n",
      "     <td>\n",
      "      <a href=\"https://www.artofmanliness.com/living/reading/the-8-best-vintage-self-improvement-books/\">\n",
      "       The 8 best self the-8-best-vintage-self-improvement-books\n",
      "      </a>\n",
      "     </td>\n",
      "     <td>\n",
      "      Tuesday, October 18th 2022\n",
      "     </td>\n",
      "     <td>\n",
      "      Go through them to. Starting with Arnold Bennett\n",
      "     </td>\n",
      "    </tr>\n",
      "    <tr>\n",
      "     <td>\n",
      "      <a href=\"https://en.wikipedia.org/wiki/Antonin_Sertillanges\">\n",
      "       Sertilanges - the intellectual life\n",
      "      </a>\n",
      "     </td>\n",
      "     <td>\n",
      "      Monday, October 17th 2022\n",
      "     </td>\n",
      "     <td>\n",
      "     </td>\n",
      "    </tr>\n",
      "    <tr>\n",
      "     <td>\n",
      "      <a href=\"https://www.artofmanliness.com/people/relationships/80-of-success-in-relationships-is-showing-up/\">\n",
      "       Showing up\n",
      "      </a>\n",
      "     </td>\n",
      "     <td>\n",
      "      Tuesday, October 18th 2022\n",
      "     </td>\n",
      "     <td>\n",
      "     </td>\n",
      "    </tr>\n",
      "    <tr>\n",
      "     <td>\n",
      "      Corrib gas field - 25% of Irelands gas, Orieachteas speech. Min for\n",
      "            env\n",
      "     </td>\n",
      "     <td>\n",
      "     </td>\n",
      "     <td>\n",
      "     </td>\n",
      "    </tr>\n",
      "    <tr>\n",
      "     <td>\n",
      "      Think DSP - Allen Downey\n",
      "     </td>\n",
      "     <td>\n",
      "      Think Stats - Allen Downey\n",
      "     </td>\n",
      "     <td>\n",
      "      Think BAyes - Allen Downey\n",
      "     </td>\n",
      "    </tr>\n",
      "   </tbody>\n",
      "  </table>\n",
      " </body>\n",
      "</html>\n"
     ]
    }
   ],
   "source": [
    "soup= BeautifulSoup(content)\n",
    "print(soup.prettify())"
   ]
  },
  {
   "cell_type": "code",
   "execution_count": 24,
   "metadata": {},
   "outputs": [
    {
     "ename": "AttributeError",
     "evalue": "'str' object has no attribute 'contents'",
     "output_type": "error",
     "traceback": [
      "\u001b[0;31m---------------------------------------------------------------------------\u001b[0m",
      "\u001b[0;31mAttributeError\u001b[0m                            Traceback (most recent call last)",
      "\u001b[0;32m/tmp/ipykernel_2215/3699142036.py\u001b[0m in \u001b[0;36m<module>\u001b[0;34m\u001b[0m\n\u001b[1;32m      2\u001b[0m     \u001b[0;32mfor\u001b[0m \u001b[0mtr\u001b[0m \u001b[0;32min\u001b[0m \u001b[0mchild\u001b[0m\u001b[0;34m:\u001b[0m\u001b[0;34m\u001b[0m\u001b[0;34m\u001b[0m\u001b[0m\n\u001b[1;32m      3\u001b[0m         \u001b[0;32mfor\u001b[0m \u001b[0mtd\u001b[0m \u001b[0;32min\u001b[0m \u001b[0mtr\u001b[0m\u001b[0;34m:\u001b[0m\u001b[0;34m\u001b[0m\u001b[0;34m\u001b[0m\u001b[0m\n\u001b[0;32m----> 4\u001b[0;31m             \u001b[0mprint\u001b[0m\u001b[0;34m(\u001b[0m\u001b[0mtd\u001b[0m\u001b[0;34m.\u001b[0m\u001b[0mcontents\u001b[0m\u001b[0;34m)\u001b[0m\u001b[0;34m\u001b[0m\u001b[0;34m\u001b[0m\u001b[0m\n\u001b[0m",
      "\u001b[0;31mAttributeError\u001b[0m: 'str' object has no attribute 'contents'"
     ]
    }
   ],
   "source": [
    "for child in soup.find_all('table')[0].children:\n",
    "    for tr in child:\n",
    "        for td in tr:\n",
    "            print(td)"
   ]
  }
 ],
 "metadata": {
  "kernelspec": {
   "display_name": "jup-env",
   "language": "python",
   "name": "jup-env"
  },
  "language_info": {
   "codemirror_mode": {
    "name": "ipython",
    "version": 3
   },
   "file_extension": ".py",
   "mimetype": "text/x-python",
   "name": "python",
   "nbconvert_exporter": "python",
   "pygments_lexer": "ipython3",
   "version": "3.8.10"
  }
 },
 "nbformat": 4,
 "nbformat_minor": 4
}
